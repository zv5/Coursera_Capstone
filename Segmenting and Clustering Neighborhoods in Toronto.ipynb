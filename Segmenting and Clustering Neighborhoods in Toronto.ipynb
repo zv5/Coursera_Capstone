{
    "cells": [
        {
            "cell_type": "markdown",
            "metadata": {
                "collapsed": true
            },
            "source": "## Segmenting and Clustering Neighborhoods in Toronto"
        },
        {
            "cell_type": "code",
            "execution_count": 3,
            "metadata": {},
            "outputs": [],
            "source": "import pandas as pd\nimport numpy as np\nfrom sklearn.cluster import KMeans\nimport requests"
        },
        {
            "cell_type": "code",
            "execution_count": 85,
            "metadata": {},
            "outputs": [],
            "source": "url= 'https://en.wikipedia.org/wiki/List_of_postal_codes_of_Canada:_M'\nheader = {\"User-Agent\": \"Mozilla/5.0 (X11; Linux x86_64) AppleWebKit/537.36 (KHTML, like Gecko) Chrome/50.0.2661.75 Safari/537.36\",\n  \"X-Requested-With\": \"XMLHttpRequest\"}\nr = requests.get(url, headers = header)\ntable = pd.read_html(r.text)\ndf = pd.DataFrame(table[0])\ndf.columns=['Postcode','Borough','Neighbourhood']\ndf.drop([0], axis=0, inplace = True)"
        },
        {
            "cell_type": "code",
            "execution_count": 89,
            "metadata": {},
            "outputs": [],
            "source": "df.reset_index()\ndfDropIndex= df[df['Borough']=='Not assigned'].index\ndf.drop(dfDropIndex, axis=0, inplace = True)"
        },
        {
            "cell_type": "code",
            "execution_count": 91,
            "metadata": {},
            "outputs": [],
            "source": "df1= df.groupby('Postcode').agg(lambda x:','.join(set(x)))"
        },
        {
            "cell_type": "code",
            "execution_count": 92,
            "metadata": {},
            "outputs": [
                {
                    "data": {
                        "text/plain": "(103, 2)"
                    },
                    "execution_count": 92,
                    "metadata": {},
                    "output_type": "execute_result"
                }
            ],
            "source": "df1.loc[df1['Neighbourhood']==\"Not assigned\",'Neighbourhood']=df1.loc[df1['Neighbourhood']==\"Not assigned\",'Borough']\ndf1.shape"
        },
        {
            "cell_type": "code",
            "execution_count": 96,
            "metadata": {},
            "outputs": [
                {
                    "data": {
                        "text/html": "<div>\n<style scoped>\n    .dataframe tbody tr th:only-of-type {\n        vertical-align: middle;\n    }\n\n    .dataframe tbody tr th {\n        vertical-align: top;\n    }\n\n    .dataframe thead th {\n        text-align: right;\n    }\n</style>\n<table border=\"1\" class=\"dataframe\">\n  <thead>\n    <tr style=\"text-align: right;\">\n      <th></th>\n      <th>0</th>\n      <th>1</th>\n      <th>2</th>\n      <th>3</th>\n    </tr>\n  </thead>\n  <tbody>\n    <tr>\n      <th>1</th>\n      <td>Python\u00e2\u0080\u0099s html.parser</td>\n      <td>BeautifulSoup(markup, \"html.parser\")</td>\n      <td>Batteries included Decent speed Lenient (As of...</td>\n      <td>Not as fast as lxml, less lenient than html5lib.</td>\n    </tr>\n    <tr>\n      <th>2</th>\n      <td>lxml\u00e2\u0080\u0099s HTML parser</td>\n      <td>BeautifulSoup(markup, \"lxml\")</td>\n      <td>Very fast Lenient</td>\n      <td>External C dependency</td>\n    </tr>\n    <tr>\n      <th>3</th>\n      <td>lxml\u00e2\u0080\u0099s XML parser</td>\n      <td>BeautifulSoup(markup, \"lxml-xml\") BeautifulSou...</td>\n      <td>Very fast The only currently supported XML parser</td>\n      <td>External C dependency</td>\n    </tr>\n    <tr>\n      <th>4</th>\n      <td>html5lib</td>\n      <td>BeautifulSoup(markup, \"html5lib\")</td>\n      <td>Extremely lenient Parses pages the same way a ...</td>\n      <td>Very slow External Python dependency</td>\n    </tr>\n  </tbody>\n</table>\n</div>",
                        "text/plain": "                        0                                                  1  \\\n1  Python\u00e2\u0080\u0099s html.parser               BeautifulSoup(markup, \"html.parser\")   \n2    lxml\u00e2\u0080\u0099s HTML parser                      BeautifulSoup(markup, \"lxml\")   \n3     lxml\u00e2\u0080\u0099s XML parser  BeautifulSoup(markup, \"lxml-xml\") BeautifulSou...   \n4                html5lib                  BeautifulSoup(markup, \"html5lib\")   \n\n                                                   2  \\\n1  Batteries included Decent speed Lenient (As of...   \n2                                  Very fast Lenient   \n3  Very fast The only currently supported XML parser   \n4  Extremely lenient Parses pages the same way a ...   \n\n                                                  3  \n1  Not as fast as lxml, less lenient than html5lib.  \n2                             External C dependency  \n3                             External C dependency  \n4              Very slow External Python dependency  "
                    },
                    "execution_count": 96,
                    "metadata": {},
                    "output_type": "execute_result"
                }
            ],
            "source": "url2='http://beautiful-soup-4.readthedocs.io/en/latest/'\nheader = {\"User-Agent\": \"Mozilla/5.0 (X11; Linux x86_64) AppleWebKit/537.36 (KHTML, like Gecko) Chrome/50.0.2661.75 Safari/537.36\",\n  \"X-Requested-With\": \"XMLHttpRequest\"}\nr = requests.get(url2, headers = header)\ntable = pd.read_html(r.text)\ndf2 = pd.DataFrame(table[0])\ndf2.drop([0], axis=0, inplace = True)\ndf2"
        },
        {
            "cell_type": "code",
            "execution_count": null,
            "metadata": {},
            "outputs": [],
            "source": ""
        }
    ],
    "metadata": {
        "kernelspec": {
            "display_name": "Python 3.6",
            "language": "python",
            "name": "python3"
        },
        "language_info": {
            "codemirror_mode": {
                "name": "ipython",
                "version": 3
            },
            "file_extension": ".py",
            "mimetype": "text/x-python",
            "name": "python",
            "nbconvert_exporter": "python",
            "pygments_lexer": "ipython3",
            "version": "3.6.9"
        }
    },
    "nbformat": 4,
    "nbformat_minor": 1
}
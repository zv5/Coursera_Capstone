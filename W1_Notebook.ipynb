<!DOCTYPE html>
<html>
<body>
<div id="ticker"></div>
<script>

var authMethod = "Unknown";
if (authMethod != null && authMethod == "failover-password" ) {
    location.href = "/fcsso/fcsso";
} else if (location.pathname == "/" || location.pathname.search("/v1") == 0 || location.pathname.search("/ssoconfig") == 0) {
    location.href = "/idaas/mtfim/sps/idaas/login?login_type=local";
} else {
    var xhr = new XMLHttpRequest();
    xhr.open("GET", "/idaas/mtfim/sps/idaas/login/ibm_security_logout");
    xhr.onreadystatechange = function() {
        if (xhr.readyState == 4) {
            var script    = document.createElement("script");
            script.src    = "/idaas/mtfim/sps/ac/js/info.js";
            script.onload = function() {
                sendSession(0, function() {
                    var queryIndex = location.href.indexOf("?");
                    if (queryIndex == -1) {
                        location.href = "/idaas/mtfim/sps/idaas/login";
                    } else {
                        var query = location.href.substring(queryIndex + 1);
                        location.href = "/idaas/mtfim/sps/idaas/login?" + query;
                    }
                });
            };

            document.getElementsByTagName("head")[0].appendChild(script);
        }
    };

    xhr.send();

    setInterval(function() {
        var ticker = document.getElementById("ticker");
        ticker.innerHTML = ticker.innerHTML + ". ";
    }, 100);
}
</script>
<noscript><img src="https://idaas.iam.ibm.com/akam/11/pixel_252f0ce0?a=dD0wZWExNWU3ZDVjZDExZDhkYzNjYzUxZGI2NjQ2MjY2ZTEyYzkzOGI1JmpzPW9mZg==" style="visibility: hidden; position: absolute; left: -999px; top: -999px;" /></noscript><script type="text/javascript" >var _cf = _cf || []; _cf.push(['_setFsp', true]);  _cf.push(['_setBm', true]); _cf.push(['_setAu', '/resources/6d3219f183rn226e78cd2c60f2b616be']); </script><script type="text/javascript"  src="/resources/6d3219f183rn226e78cd2c60f2b616be"></script></body>
</html>
